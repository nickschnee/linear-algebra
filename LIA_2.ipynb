{
 "cells": [
  {
   "cell_type": "code",
   "execution_count": 2,
   "metadata": {},
   "outputs": [],
   "source": [
    "import numpy as np \n",
    "import scipy.linalg as la"
   ]
  },
  {
   "cell_type": "markdown",
   "metadata": {},
   "source": [
    "# Linear Span & Independence\n",
    "\n",
    "Vectors are **linearly independent** if the zero vector can only be represented as trivial (=*0) linear combination.\n",
    "\n",
    "Linearly Dependent:\n",
    "- For Square Matrix: if Matrix is Singular, meaning Determinant is 0.\n",
    "\n",
    "**Linearly Independent**:\n",
    "- If Zero Vector can only be represented as trivial (*0) linear combination.\n",
    "- For Square Matrix: if Matrix is Regular, meaning Determinant != 0\n",
    "\n",
    "- If there are Pivots in every column in Row Echelon Form. So if rank A = nr. columns of A, then it's linearly independent."
   ]
  },
  {
   "cell_type": "code",
   "execution_count": 4,
   "metadata": {},
   "outputs": [
    {
     "data": {
      "text/plain": [
       "2"
      ]
     },
     "execution_count": 4,
     "metadata": {},
     "output_type": "execute_result"
    }
   ],
   "source": [
    "# define base vectors\n",
    "w1 = np.matrix([[0,1,2]]).T\n",
    "w2 = np.matrix([[1,0,4]]).T\n",
    "\n",
    "# matrix\n",
    "B = np.hstack([w1,w2])\n",
    "\n",
    "rkB = np.linalg.matrix_rank(B) \n",
    "rkB"
   ]
  },
  {
   "cell_type": "markdown",
   "metadata": {},
   "source": [
    "### Find matrix of L with respect to a different basis"
   ]
  },
  {
   "cell_type": "code",
   "execution_count": 9,
   "metadata": {},
   "outputs": [
    {
     "data": {
      "text/plain": [
       "array([[1., 1.],\n",
       "       [0., 1.]])"
      ]
     },
     "execution_count": 9,
     "metadata": {},
     "output_type": "execute_result"
    }
   ],
   "source": [
    "# the given transformation matrix of L\n",
    "A = np.array([[1,0, 2], [5, 3, 1], [5, 3, 2]])\n",
    "\n",
    "A = np.array([[0.5, 0.5], [-0.5, 1.5]])\n",
    "\n",
    "# the new basis\n",
    "\n",
    "v1 = np.array([[3],[-5], [0]])\n",
    "v2 = np.array([[0],[5], [-5]])\n",
    "v3 = np.array([[1],[0], [0]])\n",
    "\n",
    "v1 = np.array([[1],[1]])\n",
    "v2 = np.array([[-1],[1]])\n",
    "\n",
    "# combine basis vectors to matrix\n",
    "\n",
    "# V = np.hstack([v1,v2, v3])\n",
    "\n",
    "V = np.hstack([v1,v2])\n",
    "\n",
    "# 1.) get the image of each basis vector \n",
    "Lv1 = A@v1 \n",
    "Lv2 = A@v2\n",
    "# Lv3 = A@v3\n",
    "\n",
    "# 2.) find the coordinates of each image - still unsure how to verbalize\n",
    "\n",
    "b1 = la.solve(V,Lv1)\n",
    "b2 = la.solve(V,Lv2)\n",
    "# b3 = la.solve(V,Lv3)\n",
    "\n",
    "# the coordinate vectors of the images form # the new matrix of L w.r.t. the basis v1, v2\n",
    "\n",
    "B = np.hstack([b1,b2])\n",
    "\n",
    "B"
   ]
  },
  {
   "cell_type": "markdown",
   "metadata": {},
   "source": [
    "# Invertible Maps\n",
    "\n",
    "A Matrix is regular if it's determinant is not zero. That means it's also invertible."
   ]
  },
  {
   "cell_type": "code",
   "execution_count": 20,
   "metadata": {},
   "outputs": [
    {
     "name": "stdout",
     "output_type": "stream",
     "text": [
      "[[-1.          1.        ]\n",
      " [-0.66666667  0.33333333]]\n"
     ]
    }
   ],
   "source": [
    "#inverse matrix of B\n",
    "\n",
    "B = np.array([[1, -3], [2, -3]])\n",
    "\n",
    "Binv = la.inv(B)\n",
    "print(Binv)"
   ]
  },
  {
   "cell_type": "markdown",
   "metadata": {},
   "source": [
    "# Eigendecomposition (Eigenvalues etc.) with Python "
   ]
  },
  {
   "cell_type": "code",
   "execution_count": 22,
   "metadata": {},
   "outputs": [
    {
     "name": "stdout",
     "output_type": "stream",
     "text": [
      "Eigenvalues [15.  5.]\n",
      "Eigenvectors [[ 0.9486833  -0.31622777]\n",
      " [ 0.31622777  0.9486833 ]]\n"
     ]
    }
   ],
   "source": [
    "import numpy as np\n",
    "import scipy.linalg as la\n",
    "\n",
    "A = np.array ([[1 ,2, 2] , [-2, 5, 2], [5, -5, -2]])\n",
    "\n",
    "ev , S = np.linalg.eig(A) \n",
    "print('Eigenvalues', ev)\n",
    "print('Eigenvectors', S)"
   ]
  },
  {
   "cell_type": "markdown",
   "metadata": {},
   "source": [
    "Then we might check Eigendecomposition:"
   ]
  },
  {
   "cell_type": "code",
   "execution_count": 17,
   "metadata": {},
   "outputs": [
    {
     "name": "stdout",
     "output_type": "stream",
     "text": [
      "[[15.  0.]\n",
      " [ 0.  5.]]\n"
     ]
    }
   ],
   "source": [
    "print(la.inv(S)@A@S)"
   ]
  },
  {
   "cell_type": "markdown",
   "metadata": {},
   "source": [
    "### Gram-Schmidt\n",
    "Is done by np.linalg.qr . Note that an orthonormal basis is not unique and may differ from calculations by hand. You may even start with any vector when calculating by hand."
   ]
  },
  {
   "cell_type": "code",
   "execution_count": 11,
   "metadata": {},
   "outputs": [
    {
     "data": {
      "text/plain": [
       "array([[-0.19245009, -0.39429611,  0.89860644],\n",
       "       [ 0.19245009, -0.91310678, -0.35944258],\n",
       "       [ 0.96225045,  0.10376213,  0.2516098 ]])"
      ]
     },
     "execution_count": 11,
     "metadata": {},
     "output_type": "execute_result"
    }
   ],
   "source": [
    "# vectors defining given subspace\n",
    "\n",
    "w1 = np.array([[-1], [1], [5]])\n",
    "\n",
    "w2 = np.array([[-2], [-5], [0]])\n",
    "\n",
    "w3 = np.array([[-2], [-4], [5]])\n",
    "\n",
    "# combine vectors to matrix\n",
    "\n",
    "A = np.hstack([w1, w2, w3])\n",
    "\n",
    "# get new orthonormal basis as column vectors of Q\n",
    "\n",
    "Q,R = np.linalg.qr(A)\n",
    "\n",
    "Q"
   ]
  },
  {
   "cell_type": "markdown",
   "metadata": {},
   "source": [
    "Find the coordinate vector c of v with respect to the ONB u 1, u 2, u 3from Part (a)."
   ]
  },
  {
   "cell_type": "code",
   "execution_count": 13,
   "metadata": {},
   "outputs": [
    {
     "name": "stdout",
     "output_type": "stream",
     "text": [
      "[[-5.54256258]\n",
      " [ 3.86617713]\n",
      " [-0.26958193]]\n"
     ]
    }
   ],
   "source": [
    "# Assign the first column of the matrix Q to the variable u1\n",
    "u1 = Q[:,0] \n",
    "# Changing the shape of the u1 variable to be a 3x1 matrix\n",
    "u1.shape = [3,1] \n",
    "# Assign the second column of the matrix Q to the variable u2\n",
    "u2 = Q[:,1] \n",
    "# Changing the shape of the u2 variable to be a 3x1 matrix\n",
    "u2.shape = [3,1] \n",
    "# Assign the third column of the matrix Q to the variable u3\n",
    "u3 = Q[:,2] \n",
    "# Changing the shape of the u3 variable to be a 3x1 matrix\n",
    "u3.shape = [3,1] \n",
    "# Assign a 3x1 matrix to the variable v with the values [-0.7, -4.5, -5]\n",
    "v = np.array([[-0.7],[-4.5],[-5]]) \n",
    "# calculates the dot product of v transpose and u1,u2 and u3 and assigns the result to c\n",
    "c = np.array([[(v.T@u1)[0,0]],[(v.T@u2)[0,0]],[(v.T@u3)[0,0]]])\n",
    "\n",
    "# Prints the matrix c\n",
    "print(c)"
   ]
  },
  {
   "cell_type": "markdown",
   "metadata": {},
   "source": []
  }
 ],
 "metadata": {
  "kernelspec": {
   "display_name": "Python 3.10.6 64-bit ('nicks-env')",
   "language": "python",
   "name": "python3"
  },
  "language_info": {
   "codemirror_mode": {
    "name": "ipython",
    "version": 3
   },
   "file_extension": ".py",
   "mimetype": "text/x-python",
   "name": "python",
   "nbconvert_exporter": "python",
   "pygments_lexer": "ipython3",
   "version": "3.10.8"
  },
  "orig_nbformat": 4,
  "vscode": {
   "interpreter": {
    "hash": "048e3dc7872f9f04034084c5bb303a7df51c7c6f425f18661004d6c32a297746"
   }
  }
 },
 "nbformat": 4,
 "nbformat_minor": 2
}
